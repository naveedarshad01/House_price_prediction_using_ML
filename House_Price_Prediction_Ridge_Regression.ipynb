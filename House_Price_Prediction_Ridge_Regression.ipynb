{
 "cells": [
  {
   "cell_type": "markdown",
   "id": "6424760b",
   "metadata": {},
   "source": [
    "# Ridge Regression Model for House Price Prediction\n",
    "This notebook contains the process of loading, preprocessing, training a Ridge Regression model on the housing dataset, and saving the model for future predictions."
   ]
  },
  {
   "cell_type": "code",
   "execution_count": null,
   "id": "e988ae7f",
   "metadata": {},
   "outputs": [],
   "source": [
    "import pandas as pd\n",
    "from sklearn.model_selection import train_test_split\n",
    "from sklearn.linear_model import Ridge\n",
    "from sklearn.metrics import mean_squared_error, r2_score\n",
    "from sklearn.preprocessing import OneHotEncoder\n",
    "from sklearn.compose import ColumnTransformer\n",
    "import joblib"
   ]
  },
  {
   "cell_type": "markdown",
   "id": "02e0974c",
   "metadata": {},
   "source": [
    "## Load the Dataset"
   ]
  },
  {
   "cell_type": "code",
   "execution_count": null,
   "id": "f9bf82ba",
   "metadata": {},
   "outputs": [],
   "source": [
    "# Load the dataset\n",
    "file_path = 'path_to_your_data/Housing.csv' # Update this path\n",
    "housing_data = pd.read_csv(file_path)\n",
    "housing_data.head()"
   ]
  },
  {
   "cell_type": "markdown",
   "id": "9e59aa99",
   "metadata": {},
   "source": [
    "## Preprocess the Data"
   ]
  },
  {
   "cell_type": "code",
   "execution_count": null,
   "id": "10d8a917",
   "metadata": {},
   "outputs": [],
   "source": [
    "# Separating the target variable and features\n",
    "X = housing_data.drop('price', axis=1)\n",
    "y = housing_data['price']\n",
    "\n",
    "# One-hot encoding for categorical variables\n",
    "categorical_features = X.select_dtypes(include=['object']).columns\n",
    "column_transformer = ColumnTransformer(transformers=[\n",
    "    ('cat', OneHotEncoder(drop='first'), categorical_features)\n",
    "], remainder='passthrough')\n",
    "\n",
    "X_transformed = column_transformer.fit_transform(X)"
   ]
  },
  {
   "cell_type": "markdown",
   "id": "461f7677",
   "metadata": {},
   "source": [
    "## Split the Data"
   ]
  },
  {
   "cell_type": "code",
   "execution_count": null,
   "id": "7976ee71",
   "metadata": {},
   "outputs": [],
   "source": [
    "# Splitting the dataset into the Training set and Test set\n",
    "X_train, X_test, y_train, y_test = train_test_split(X_transformed, y, test_size = 0.2, random_state = 0)"
   ]
  },
  {
   "cell_type": "markdown",
   "id": "61e38338",
   "metadata": {},
   "source": [
    "## Train the Ridge Regression Model"
   ]
  },
  {
   "cell_type": "code",
   "execution_count": null,
   "id": "7df5e9c3",
   "metadata": {},
   "outputs": [],
   "source": [
    "# Fitting Ridge Regression to the entire dataset\n",
    "ridge_regressor = Ridge(alpha=1.0)\n",
    "ridge_regressor.fit(X_transformed, y)"
   ]
  },
  {
   "cell_type": "markdown",
   "id": "78038b9f",
   "metadata": {},
   "source": [
    "## Save the Model"
   ]
  },
  {
   "cell_type": "code",
   "execution_count": null,
   "id": "eea07431",
   "metadata": {},
   "outputs": [],
   "source": [
    "# Save the Ridge Regression model\n",
    "joblib.dump(ridge_regressor, 'final_ridge_model.joblib')\n",
    "# Save the ColumnTransformer\n",
    "joblib.dump(column_transformer, 'column_transformer.joblib')"
   ]
  }
 ],
 "metadata": {},
 "nbformat": 4,
 "nbformat_minor": 5
}
